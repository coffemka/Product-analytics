{
 "cells": [
  {
   "cell_type": "code",
   "execution_count": 1,
   "metadata": {},
   "outputs": [],
   "source": [
    "import pandas as pd\n",
    "from operator import attrgetter\n",
    "from matplotlib import pyplot as plt\n",
    "from matplotlib import colors as mcolors\n",
    "import numpy as np\n",
    "from datetime import timedelta\n",
    "import requests\n",
    "from scipy.stats import mannwhitneyu\n",
    "from statsmodels.stats.weightstats import ztest\n"
   ]
  },
  {
   "cell_type": "markdown",
   "metadata": {},
   "source": [
    "# Задание 1 - retention"
   ]
  },
  {
   "cell_type": "markdown",
   "metadata": {},
   "source": [
    "## Функция для рассчета retention"
   ]
  },
  {
   "cell_type": "markdown",
   "metadata": {},
   "source": [
    "#### Удержание рассчитывается по дням (по условию), когорты взяты по месяцам, чтобы было возможно адекватно оценивать динамику"
   ]
  },
  {
   "cell_type": "code",
   "execution_count": 2,
   "metadata": {},
   "outputs": [],
   "source": [
    "def calculate_retention(reg_df, auth_df):\n",
    "    \"\"\"\n",
    "    Вычисляет retention-матрицу пользователей на основе данных о регистрации и авторизации\n",
    "\n",
    "    Параметры:\n",
    "    reg_df (pd.DataFrame) :  ['uid', 'reg_ts'] , 'reg_ts'  —  время регистрации\n",
    "    auth_df (pd.DataFrame):  ['uid', 'auth_ts'], 'auth_ts' —  время авторизации\n",
    "\n",
    "    Возвращает:\n",
    "    pd.DataFrame: retention-матрица, где строки — месячные когорты (по дате регистрации),\n",
    "                  столбцы — количество дней с момента регистрации,\n",
    "                  значения — доля пользователей, вернувшихся в соответствующий день\n",
    "    \"\"\"\n",
    "    reg_df = reg_df.copy()\n",
    "    auth_df = auth_df.copy()\n",
    "    reg_df['reg_ts'] = pd.to_datetime(reg_df['reg_ts'], unit='s')\n",
    "    auth_df['auth_ts'] = pd.to_datetime(auth_df['auth_ts'], unit='s')\n",
    "\n",
    "    reg_df = reg_df.rename(columns={'reg_ts': 'registration_date'})\n",
    "    auth_df = auth_df.rename(columns={'auth_ts': 'auth_date'})\n",
    "    merged_df = pd.merge(auth_df, reg_df, on='uid')\n",
    "\n",
    "    merged_df['registration_date'] = merged_df['registration_date'].dt.floor('D')\n",
    "    merged_df['auth_date'] = merged_df['auth_date'].dt.floor('D')\n",
    "    merged_df['cohort'] = merged_df['registration_date'].dt.to_period('M')\n",
    "    merged_df['days_since_reg'] = (merged_df['auth_date'] - merged_df['registration_date']).dt.days\n",
    "    merged_df = merged_df[merged_df['days_since_reg'] >= 0]\n",
    "\n",
    "    retention_counts = (\n",
    "        merged_df.groupby(['cohort', 'days_since_reg'])['uid']\n",
    "        .nunique()\n",
    "        .reset_index()\n",
    "    )\n",
    "\n",
    "    retention_matrix = retention_counts.pivot_table(\n",
    "        index='cohort',\n",
    "        columns='days_since_reg',\n",
    "        values='uid'\n",
    "    )\n",
    "\n",
    "    cohort_sizes = retention_matrix[0]\n",
    "    retention_matrix = retention_matrix.divide(cohort_sizes, axis=0)\n",
    "\n",
    "    return retention_matrix"
   ]
  },
  {
   "cell_type": "code",
   "execution_count": 3,
   "metadata": {},
   "outputs": [],
   "source": [
    "reg_data = pd.read_csv('~/shared/problem1-reg_data.csv', sep=';')\n",
    "auth_data = pd.read_csv('~/shared/problem1-auth_data.csv', sep=';')"
   ]
  },
  {
   "cell_type": "markdown",
   "metadata": {},
   "source": [
    "### EDA"
   ]
  },
  {
   "cell_type": "code",
   "execution_count": 7,
   "metadata": {},
   "outputs": [
    {
     "name": "stdout",
     "output_type": "stream",
     "text": [
      "Размер reg_df: (1000000, 2)\n",
      "Размер auth_df: (9601013, 2)\n"
     ]
    }
   ],
   "source": [
    "# Размеры датафреймов\n",
    "print(f\"Размер reg_df: {reg_data.shape}\")\n",
    "print(f\"Размер auth_df: {auth_data.shape}\")"
   ]
  },
  {
   "cell_type": "code",
   "execution_count": 10,
   "metadata": {},
   "outputs": [
    {
     "name": "stdout",
     "output_type": "stream",
     "text": [
      "<class 'pandas.core.frame.DataFrame'>\n",
      "RangeIndex: 1000000 entries, 0 to 999999\n",
      "Data columns (total 2 columns):\n",
      " #   Column  Non-Null Count    Dtype\n",
      "---  ------  --------------    -----\n",
      " 0   reg_ts  1000000 non-null  int64\n",
      " 1   uid     1000000 non-null  int64\n",
      "dtypes: int64(2)\n",
      "memory usage: 15.3 MB\n"
     ]
    }
   ],
   "source": [
    "# Общая информация\n",
    "reg_data.info()"
   ]
  },
  {
   "cell_type": "code",
   "execution_count": 11,
   "metadata": {},
   "outputs": [
    {
     "name": "stdout",
     "output_type": "stream",
     "text": [
      "<class 'pandas.core.frame.DataFrame'>\n",
      "RangeIndex: 9601013 entries, 0 to 9601012\n",
      "Data columns (total 2 columns):\n",
      " #   Column   Dtype\n",
      "---  ------   -----\n",
      " 0   auth_ts  int64\n",
      " 1   uid      int64\n",
      "dtypes: int64(2)\n",
      "memory usage: 146.5 MB\n"
     ]
    }
   ],
   "source": [
    "auth_data.info()"
   ]
  },
  {
   "cell_type": "code",
   "execution_count": 12,
   "metadata": {},
   "outputs": [
    {
     "data": {
      "text/plain": [
       "reg_ts    0\n",
       "uid       0\n",
       "dtype: int64"
      ]
     },
     "execution_count": 12,
     "metadata": {},
     "output_type": "execute_result"
    }
   ],
   "source": [
    "#Пропуски - нет\n",
    "reg_data.isna().sum()"
   ]
  },
  {
   "cell_type": "code",
   "execution_count": 13,
   "metadata": {},
   "outputs": [
    {
     "data": {
      "text/plain": [
       "auth_ts    0\n",
       "uid        0\n",
       "dtype: int64"
      ]
     },
     "execution_count": 13,
     "metadata": {},
     "output_type": "execute_result"
    }
   ],
   "source": [
    "auth_data.isna().sum()"
   ]
  },
  {
   "cell_type": "code",
   "execution_count": 15,
   "metadata": {},
   "outputs": [
    {
     "data": {
      "text/plain": [
       "0"
      ]
     },
     "execution_count": 15,
     "metadata": {},
     "output_type": "execute_result"
    }
   ],
   "source": [
    "#Дубликаты - нет\n",
    "reg_data.duplicated().sum()"
   ]
  },
  {
   "cell_type": "code",
   "execution_count": 16,
   "metadata": {},
   "outputs": [
    {
     "data": {
      "text/plain": [
       "0"
      ]
     },
     "execution_count": 16,
     "metadata": {},
     "output_type": "execute_result"
    }
   ],
   "source": [
    "auth_data.duplicated().sum()"
   ]
  },
  {
   "cell_type": "code",
   "execution_count": 19,
   "metadata": {},
   "outputs": [
    {
     "name": "stdout",
     "output_type": "stream",
     "text": [
      "Уникальных пользователей в reg_data: 1000000\n",
      "Уникальных пользователей в auth_data: 1000000\n"
     ]
    }
   ],
   "source": [
    "# Кол-во пользователей совпадает\n",
    "print(f\"Уникальных пользователей в reg_data: {reg_data['uid'].nunique()}\")\n",
    "print(f\"Уникальных пользователей в auth_data: {auth_data['uid'].nunique()}\")"
   ]
  },
  {
   "cell_type": "code",
   "execution_count": 23,
   "metadata": {},
   "outputs": [
    {
     "name": "stdout",
     "output_type": "stream",
     "text": [
      "Пользователей, авторизованных без регистрации: 0\n"
     ]
    }
   ],
   "source": [
    "#Ошибок вида: пользователь зашел, но не был зарегестрирован нет\n",
    "unauthorized = set(reg_data['uid']) - set(auth_data['uid'])\n",
    "print(f\"Пользователей, авторизованных без регистрации: {len(unauthorized)}\")"
   ]
  },
  {
   "cell_type": "code",
   "execution_count": 24,
   "metadata": {},
   "outputs": [
    {
     "name": "stdout",
     "output_type": "stream",
     "text": [
      "Пользователей, которые зарегались, но не входили: 0\n"
     ]
    }
   ],
   "source": [
    "#Зарегестрированных, но не разу не вошедших нет\n",
    "unreg = set(auth_data['uid']) - set(reg_data['uid'])\n",
    "print(f\"Пользователей, которые зарегались, но не входили: {len(unreg)}\")"
   ]
  },
  {
   "cell_type": "code",
   "execution_count": 26,
   "metadata": {},
   "outputs": [],
   "source": [
    "reg_data['reg_ts'] = pd.to_datetime(reg_data['reg_ts'], unit='s')\n",
    "auth_data['auth_ts'] = pd.to_datetime(auth_data['auth_ts'], unit='s')"
   ]
  },
  {
   "cell_type": "code",
   "execution_count": 30,
   "metadata": {},
   "outputs": [
    {
     "data": {
      "image/png": "[encoded data removed]",
      "text/plain": [
       "<Figure size 432x288 with 1 Axes>"
      ]
     },
     "metadata": {
      "needs_background": "light"
     },
     "output_type": "display_data"
    }
   ],
   "source": [
    "# Распределение по годам \n",
    "reg_by_year = reg_data['reg_ts'].dt.year.value_counts().sort_index()\n",
    "reg_by_year.plot(kind='bar', title='Количество регистраций по годам', figsize=(6, 4), color='skyblue')\n",
    "plt.xlabel('Год регистрации')\n",
    "plt.ylabel('Количество пользователей')\n",
    "plt.grid(axis='y')\n",
    "plt.tight_layout()\n",
    "plt.show()"
   ]
  },
  {
   "cell_type": "code",
   "execution_count": 31,
   "metadata": {},
   "outputs": [
    {
     "data": {
      "image/png": "[encoded data removed]",
      "text/plain": [
       "<Figure size 432x288 with 1 Axes>"
      ]
     },
     "metadata": {
      "needs_background": "light"
     },
     "output_type": "display_data"
    }
   ],
   "source": [
    "# Распределение по годам\n",
    "auth_by_year = auth_data['auth_ts'].dt.year.value_counts().sort_index()\n",
    "auth_by_year.plot(kind='bar', title='Количество авторизаций по годам', figsize=(6, 4), color='lightgreen')\n",
    "plt.xlabel('Год авторизации')\n",
    "plt.ylabel('Количество авторизаций')\n",
    "plt.grid(axis='y')\n",
    "plt.tight_layout()\n",
    "plt.show()"
   ]
  },
  {
   "cell_type": "code",
   "execution_count": null,
   "metadata": {},
   "outputs": [],
   "source": [
    "auth_df['auth_date'] = auth_data['auth_ts'].dt.date\n",
    "auth_counts = auth_data['auth_date'].value_counts().sort_index()\n",
    "\n",
    "auth_counts.plot(kind='bar', title='Распределение авторизаций по датам', figsize=(8, 4))"
   ]
  },
  {
   "cell_type": "code",
   "execution_count": 25,
   "metadata": {},
   "outputs": [],
   "source": [
    "#Беру сэмпл за поледний год\n",
    "cutoff_date = reg_data['reg_ts'].max() - timedelta(days=365)\n",
    "\n",
    "recent_reg = reg_data[reg_data['reg_ts'] >= cutoff_date]\n",
    "recent_uids = recent_reg['uid'].unique()\n",
    "\n",
    "\n",
    "reg_recent = reg_data[reg_data['uid'].isin(recent_uids)]\n",
    "auth_recent = auth_data[auth_data['uid'].isin(recent_uids)]"
   ]
  },
  {
   "cell_type": "code",
   "execution_count": 26,
   "metadata": {},
   "outputs": [],
   "source": [
    "retention_matrix = calculate_retention(reg_recent, auth_recent)"
   ]
  },
  {
   "cell_type": "code",
   "execution_count": 28,
   "metadata": {},
   "outputs": [
    {
     "data": {
      "text/html": [
       "<div>\n",
       "<style scoped>\n",
       "    .dataframe tbody tr th:only-of-type {\n",
       "        vertical-align: middle;\n",
       "    }\n",
       "\n",
       "    .dataframe tbody tr th {\n",
       "        vertical-align: top;\n",
       "    }\n",
       "\n",
       "    .dataframe thead th {\n",
       "        text-align: right;\n",
       "    }\n",
       "</style>\n",
       "<table border=\"1\" class=\"dataframe\">\n",
       "  <thead>\n",
       "    <tr style=\"text-align: right;\">\n",
       "      <th>days_since_reg</th>\n",
       "      <th>0</th>\n",
       "      <th>1</th>\n",
       "      <th>2</th>\n",
       "      <th>3</th>\n",
       "      <th>4</th>\n",
       "      <th>5</th>\n",
       "      <th>6</th>\n",
       "      <th>7</th>\n",
       "      <th>8</th>\n",
       "      <th>9</th>\n",
       "      <th>...</th>\n",
       "      <th>356</th>\n",
       "      <th>357</th>\n",
       "      <th>358</th>\n",
       "      <th>359</th>\n",
       "      <th>360</th>\n",
       "      <th>361</th>\n",
       "      <th>362</th>\n",
       "      <th>363</th>\n",
       "      <th>364</th>\n",
       "      <th>365</th>\n",
       "    </tr>\n",
       "    <tr>\n",
       "      <th>cohort</th>\n",
       "      <th></th>\n",
       "      <th></th>\n",
       "      <th></th>\n",
       "      <th></th>\n",
       "      <th></th>\n",
       "      <th></th>\n",
       "      <th></th>\n",
       "      <th></th>\n",
       "      <th></th>\n",
       "      <th></th>\n",
       "      <th></th>\n",
       "      <th></th>\n",
       "      <th></th>\n",
       "      <th></th>\n",
       "      <th></th>\n",
       "      <th></th>\n",
       "      <th></th>\n",
       "      <th></th>\n",
       "      <th></th>\n",
       "      <th></th>\n",
       "      <th></th>\n",
       "    </tr>\n",
       "  </thead>\n",
       "  <tbody>\n",
       "    <tr>\n",
       "      <th>2019-09</th>\n",
       "      <td>1.0</td>\n",
       "      <td>0.020620</td>\n",
       "      <td>0.040374</td>\n",
       "      <td>0.045573</td>\n",
       "      <td>0.053717</td>\n",
       "      <td>0.063594</td>\n",
       "      <td>0.066020</td>\n",
       "      <td>0.061688</td>\n",
       "      <td>0.048518</td>\n",
       "      <td>0.045919</td>\n",
       "      <td>...</td>\n",
       "      <td>0.009704</td>\n",
       "      <td>0.011610</td>\n",
       "      <td>0.012996</td>\n",
       "      <td>0.01005</td>\n",
       "      <td>0.010224</td>\n",
       "      <td>0.006411</td>\n",
       "      <td>0.005025</td>\n",
       "      <td>0.004852</td>\n",
       "      <td>0.00156</td>\n",
       "      <td>0.000173</td>\n",
       "    </tr>\n",
       "    <tr>\n",
       "      <th>2019-10</th>\n",
       "      <td>1.0</td>\n",
       "      <td>0.020519</td>\n",
       "      <td>0.042279</td>\n",
       "      <td>0.043313</td>\n",
       "      <td>0.052348</td>\n",
       "      <td>0.060039</td>\n",
       "      <td>0.070177</td>\n",
       "      <td>0.056487</td>\n",
       "      <td>0.048348</td>\n",
       "      <td>0.052245</td>\n",
       "      <td>...</td>\n",
       "      <td>0.000862</td>\n",
       "      <td>0.000448</td>\n",
       "      <td>0.000241</td>\n",
       "      <td>NaN</td>\n",
       "      <td>NaN</td>\n",
       "      <td>NaN</td>\n",
       "      <td>NaN</td>\n",
       "      <td>NaN</td>\n",
       "      <td>NaN</td>\n",
       "      <td>NaN</td>\n",
       "    </tr>\n",
       "    <tr>\n",
       "      <th>2019-11</th>\n",
       "      <td>1.0</td>\n",
       "      <td>0.020268</td>\n",
       "      <td>0.043484</td>\n",
       "      <td>0.045891</td>\n",
       "      <td>0.051008</td>\n",
       "      <td>0.059820</td>\n",
       "      <td>0.068056</td>\n",
       "      <td>0.059956</td>\n",
       "      <td>0.046840</td>\n",
       "      <td>0.048941</td>\n",
       "      <td>...</td>\n",
       "      <td>NaN</td>\n",
       "      <td>NaN</td>\n",
       "      <td>NaN</td>\n",
       "      <td>NaN</td>\n",
       "      <td>NaN</td>\n",
       "      <td>NaN</td>\n",
       "      <td>NaN</td>\n",
       "      <td>NaN</td>\n",
       "      <td>NaN</td>\n",
       "      <td>NaN</td>\n",
       "    </tr>\n",
       "    <tr>\n",
       "      <th>2019-12</th>\n",
       "      <td>1.0</td>\n",
       "      <td>0.019715</td>\n",
       "      <td>0.040272</td>\n",
       "      <td>0.047447</td>\n",
       "      <td>0.054653</td>\n",
       "      <td>0.059737</td>\n",
       "      <td>0.069470</td>\n",
       "      <td>0.059706</td>\n",
       "      <td>0.047478</td>\n",
       "      <td>0.052500</td>\n",
       "      <td>...</td>\n",
       "      <td>NaN</td>\n",
       "      <td>NaN</td>\n",
       "      <td>NaN</td>\n",
       "      <td>NaN</td>\n",
       "      <td>NaN</td>\n",
       "      <td>NaN</td>\n",
       "      <td>NaN</td>\n",
       "      <td>NaN</td>\n",
       "      <td>NaN</td>\n",
       "      <td>NaN</td>\n",
       "    </tr>\n",
       "    <tr>\n",
       "      <th>2020-01</th>\n",
       "      <td>1.0</td>\n",
       "      <td>0.020425</td>\n",
       "      <td>0.040880</td>\n",
       "      <td>0.047580</td>\n",
       "      <td>0.052649</td>\n",
       "      <td>0.056621</td>\n",
       "      <td>0.070080</td>\n",
       "      <td>0.056769</td>\n",
       "      <td>0.047995</td>\n",
       "      <td>0.050129</td>\n",
       "      <td>...</td>\n",
       "      <td>NaN</td>\n",
       "      <td>NaN</td>\n",
       "      <td>NaN</td>\n",
       "      <td>NaN</td>\n",
       "      <td>NaN</td>\n",
       "      <td>NaN</td>\n",
       "      <td>NaN</td>\n",
       "      <td>NaN</td>\n",
       "      <td>NaN</td>\n",
       "      <td>NaN</td>\n",
       "    </tr>\n",
       "    <tr>\n",
       "      <th>2020-02</th>\n",
       "      <td>1.0</td>\n",
       "      <td>0.020059</td>\n",
       "      <td>0.041687</td>\n",
       "      <td>0.044492</td>\n",
       "      <td>0.051309</td>\n",
       "      <td>0.060569</td>\n",
       "      <td>0.069438</td>\n",
       "      <td>0.055773</td>\n",
       "      <td>0.046664</td>\n",
       "      <td>0.049771</td>\n",
       "      <td>...</td>\n",
       "      <td>NaN</td>\n",
       "      <td>NaN</td>\n",
       "      <td>NaN</td>\n",
       "      <td>NaN</td>\n",
       "      <td>NaN</td>\n",
       "      <td>NaN</td>\n",
       "      <td>NaN</td>\n",
       "      <td>NaN</td>\n",
       "      <td>NaN</td>\n",
       "      <td>NaN</td>\n",
       "    </tr>\n",
       "    <tr>\n",
       "      <th>2020-03</th>\n",
       "      <td>1.0</td>\n",
       "      <td>0.019607</td>\n",
       "      <td>0.040746</td>\n",
       "      <td>0.047407</td>\n",
       "      <td>0.052134</td>\n",
       "      <td>0.059655</td>\n",
       "      <td>0.068840</td>\n",
       "      <td>0.058338</td>\n",
       "      <td>0.048427</td>\n",
       "      <td>0.051382</td>\n",
       "      <td>...</td>\n",
       "      <td>NaN</td>\n",
       "      <td>NaN</td>\n",
       "      <td>NaN</td>\n",
       "      <td>NaN</td>\n",
       "      <td>NaN</td>\n",
       "      <td>NaN</td>\n",
       "      <td>NaN</td>\n",
       "      <td>NaN</td>\n",
       "      <td>NaN</td>\n",
       "      <td>NaN</td>\n",
       "    </tr>\n",
       "    <tr>\n",
       "      <th>2020-04</th>\n",
       "      <td>1.0</td>\n",
       "      <td>0.021328</td>\n",
       "      <td>0.042657</td>\n",
       "      <td>0.045719</td>\n",
       "      <td>0.053875</td>\n",
       "      <td>0.060870</td>\n",
       "      <td>0.070056</td>\n",
       "      <td>0.058943</td>\n",
       "      <td>0.047329</td>\n",
       "      <td>0.052212</td>\n",
       "      <td>...</td>\n",
       "      <td>NaN</td>\n",
       "      <td>NaN</td>\n",
       "      <td>NaN</td>\n",
       "      <td>NaN</td>\n",
       "      <td>NaN</td>\n",
       "      <td>NaN</td>\n",
       "      <td>NaN</td>\n",
       "      <td>NaN</td>\n",
       "      <td>NaN</td>\n",
       "      <td>NaN</td>\n",
       "    </tr>\n",
       "    <tr>\n",
       "      <th>2020-05</th>\n",
       "      <td>1.0</td>\n",
       "      <td>0.018975</td>\n",
       "      <td>0.041012</td>\n",
       "      <td>0.046333</td>\n",
       "      <td>0.053111</td>\n",
       "      <td>0.060716</td>\n",
       "      <td>0.067592</td>\n",
       "      <td>0.058529</td>\n",
       "      <td>0.048155</td>\n",
       "      <td>0.050220</td>\n",
       "      <td>...</td>\n",
       "      <td>NaN</td>\n",
       "      <td>NaN</td>\n",
       "      <td>NaN</td>\n",
       "      <td>NaN</td>\n",
       "      <td>NaN</td>\n",
       "      <td>NaN</td>\n",
       "      <td>NaN</td>\n",
       "      <td>NaN</td>\n",
       "      <td>NaN</td>\n",
       "      <td>NaN</td>\n",
       "    </tr>\n",
       "    <tr>\n",
       "      <th>2020-06</th>\n",
       "      <td>1.0</td>\n",
       "      <td>0.019460</td>\n",
       "      <td>0.039589</td>\n",
       "      <td>0.046084</td>\n",
       "      <td>0.053868</td>\n",
       "      <td>0.059002</td>\n",
       "      <td>0.069604</td>\n",
       "      <td>0.057187</td>\n",
       "      <td>0.048257</td>\n",
       "      <td>0.052937</td>\n",
       "      <td>...</td>\n",
       "      <td>NaN</td>\n",
       "      <td>NaN</td>\n",
       "      <td>NaN</td>\n",
       "      <td>NaN</td>\n",
       "      <td>NaN</td>\n",
       "      <td>NaN</td>\n",
       "      <td>NaN</td>\n",
       "      <td>NaN</td>\n",
       "      <td>NaN</td>\n",
       "      <td>NaN</td>\n",
       "    </tr>\n",
       "    <tr>\n",
       "      <th>2020-07</th>\n",
       "      <td>1.0</td>\n",
       "      <td>0.020307</td>\n",
       "      <td>0.041800</td>\n",
       "      <td>0.046965</td>\n",
       "      <td>0.052811</td>\n",
       "      <td>0.061096</td>\n",
       "      <td>0.069206</td>\n",
       "      <td>0.058151</td>\n",
       "      <td>0.049624</td>\n",
       "      <td>0.051316</td>\n",
       "      <td>...</td>\n",
       "      <td>NaN</td>\n",
       "      <td>NaN</td>\n",
       "      <td>NaN</td>\n",
       "      <td>NaN</td>\n",
       "      <td>NaN</td>\n",
       "      <td>NaN</td>\n",
       "      <td>NaN</td>\n",
       "      <td>NaN</td>\n",
       "      <td>NaN</td>\n",
       "      <td>NaN</td>\n",
       "    </tr>\n",
       "    <tr>\n",
       "      <th>2020-08</th>\n",
       "      <td>1.0</td>\n",
       "      <td>0.020237</td>\n",
       "      <td>0.040036</td>\n",
       "      <td>0.045967</td>\n",
       "      <td>0.053277</td>\n",
       "      <td>0.060127</td>\n",
       "      <td>0.068857</td>\n",
       "      <td>0.059855</td>\n",
       "      <td>0.047408</td>\n",
       "      <td>0.051188</td>\n",
       "      <td>...</td>\n",
       "      <td>NaN</td>\n",
       "      <td>NaN</td>\n",
       "      <td>NaN</td>\n",
       "      <td>NaN</td>\n",
       "      <td>NaN</td>\n",
       "      <td>NaN</td>\n",
       "      <td>NaN</td>\n",
       "      <td>NaN</td>\n",
       "      <td>NaN</td>\n",
       "      <td>NaN</td>\n",
       "    </tr>\n",
       "    <tr>\n",
       "      <th>2020-09</th>\n",
       "      <td>1.0</td>\n",
       "      <td>0.020005</td>\n",
       "      <td>0.037411</td>\n",
       "      <td>0.039272</td>\n",
       "      <td>0.043377</td>\n",
       "      <td>0.049453</td>\n",
       "      <td>0.050328</td>\n",
       "      <td>0.040504</td>\n",
       "      <td>0.030898</td>\n",
       "      <td>0.030296</td>\n",
       "      <td>...</td>\n",
       "      <td>NaN</td>\n",
       "      <td>NaN</td>\n",
       "      <td>NaN</td>\n",
       "      <td>NaN</td>\n",
       "      <td>NaN</td>\n",
       "      <td>NaN</td>\n",
       "      <td>NaN</td>\n",
       "      <td>NaN</td>\n",
       "      <td>NaN</td>\n",
       "      <td>NaN</td>\n",
       "    </tr>\n",
       "  </tbody>\n",
       "</table>\n",
       "<p>13 rows × 366 columns</p>\n",
       "</div>"
      ],
      "text/plain": [
       "days_since_reg  0         1         2         3         4         5    \\\n",
       "cohort                                                                  \n",
       "2019-09         1.0  0.020620  0.040374  0.045573  0.053717  0.063594   \n",
       "2019-10         1.0  0.020519  0.042279  0.043313  0.052348  0.060039   \n",
       "2019-11         1.0  0.020268  0.043484  0.045891  0.051008  0.059820   \n",
       "2019-12         1.0  0.019715  0.040272  0.047447  0.054653  0.059737   \n",
       "2020-01         1.0  0.020425  0.040880  0.047580  0.052649  0.056621   \n",
       "2020-02         1.0  0.020059  0.041687  0.044492  0.051309  0.060569   \n",
       "2020-03         1.0  0.019607  0.040746  0.047407  0.052134  0.059655   \n",
       "2020-04         1.0  0.021328  0.042657  0.045719  0.053875  0.060870   \n",
       "2020-05         1.0  0.018975  0.041012  0.046333  0.053111  0.060716   \n",
       "2020-06         1.0  0.019460  0.039589  0.046084  0.053868  0.059002   \n",
       "2020-07         1.0  0.020307  0.041800  0.046965  0.052811  0.061096   \n",
       "2020-08         1.0  0.020237  0.040036  0.045967  0.053277  0.060127   \n",
       "2020-09         1.0  0.020005  0.037411  0.039272  0.043377  0.049453   \n",
       "\n",
       "days_since_reg       6         7         8         9    ...       356  \\\n",
       "cohort                                                  ...             \n",
       "2019-09         0.066020  0.061688  0.048518  0.045919  ...  0.009704   \n",
       "2019-10         0.070177  0.056487  0.048348  0.052245  ...  0.000862   \n",
       "2019-11         0.068056  0.059956  0.046840  0.048941  ...       NaN   \n",
       "2019-12         0.069470  0.059706  0.047478  0.052500  ...       NaN   \n",
       "2020-01         0.070080  0.056769  0.047995  0.050129  ...       NaN   \n",
       "2020-02         0.069438  0.055773  0.046664  0.049771  ...       NaN   \n",
       "2020-03         0.068840  0.058338  0.048427  0.051382  ...       NaN   \n",
       "2020-04         0.070056  0.058943  0.047329  0.052212  ...       NaN   \n",
       "2020-05         0.067592  0.058529  0.048155  0.050220  ...       NaN   \n",
       "2020-06         0.069604  0.057187  0.048257  0.052937  ...       NaN   \n",
       "2020-07         0.069206  0.058151  0.049624  0.051316  ...       NaN   \n",
       "2020-08         0.068857  0.059855  0.047408  0.051188  ...       NaN   \n",
       "2020-09         0.050328  0.040504  0.030898  0.030296  ...       NaN   \n",
       "\n",
       "days_since_reg       357       358      359       360       361       362  \\\n",
       "cohort                                                                      \n",
       "2019-09         0.011610  0.012996  0.01005  0.010224  0.006411  0.005025   \n",
       "2019-10         0.000448  0.000241      NaN       NaN       NaN       NaN   \n",
       "2019-11              NaN       NaN      NaN       NaN       NaN       NaN   \n",
       "2019-12              NaN       NaN      NaN       NaN       NaN       NaN   \n",
       "2020-01              NaN       NaN      NaN       NaN       NaN       NaN   \n",
       "2020-02              NaN       NaN      NaN       NaN       NaN       NaN   \n",
       "2020-03              NaN       NaN      NaN       NaN       NaN       NaN   \n",
       "2020-04              NaN       NaN      NaN       NaN       NaN       NaN   \n",
       "2020-05              NaN       NaN      NaN       NaN       NaN       NaN   \n",
       "2020-06              NaN       NaN      NaN       NaN       NaN       NaN   \n",
       "2020-07              NaN       NaN      NaN       NaN       NaN       NaN   \n",
       "2020-08              NaN       NaN      NaN       NaN       NaN       NaN   \n",
       "2020-09              NaN       NaN      NaN       NaN       NaN       NaN   \n",
       "\n",
       "days_since_reg       363      364       365  \n",
       "cohort                                       \n",
       "2019-09         0.004852  0.00156  0.000173  \n",
       "2019-10              NaN      NaN       NaN  \n",
       "2019-11              NaN      NaN       NaN  \n",
       "2019-12              NaN      NaN       NaN  \n",
       "2020-01              NaN      NaN       NaN  \n",
       "2020-02              NaN      NaN       NaN  \n",
       "2020-03              NaN      NaN       NaN  \n",
       "2020-04              NaN      NaN       NaN  \n",
       "2020-05              NaN      NaN       NaN  \n",
       "2020-06              NaN      NaN       NaN  \n",
       "2020-07              NaN      NaN       NaN  \n",
       "2020-08              NaN      NaN       NaN  \n",
       "2020-09              NaN      NaN       NaN  \n",
       "\n",
       "[13 rows x 366 columns]"
      ]
     },
     "execution_count": 28,
     "metadata": {},
     "output_type": "execute_result"
    }
   ],
   "source": [
    "retention_matrix"
   ]
  },
  {
   "cell_type": "markdown",
   "metadata": {},
   "source": [
    "# Задание 2 - анализ А/B теста"
   ]
  },
  {
   "cell_type": "code",
   "execution_count": 33,
   "metadata": {},
   "outputs": [],
   "source": [
    "api_url = \"https://cloud-api.yandex.net/v1/disk/public/resources/download\"\n",
    "params = {'public_key': \"https://disk.yandex.ru/d/SOkIsD5A8xlI7Q\"}\n",
    "response = requests.get(api_url, params=params)\n",
    "download_url = response.json()['href']"
   ]
  },
  {
   "cell_type": "code",
   "execution_count": 34,
   "metadata": {},
   "outputs": [],
   "source": [
    "results = pd.read_csv(download_url, sep=';')"
   ]
  },
  {
   "cell_type": "code",
   "execution_count": 35,
   "metadata": {},
   "outputs": [
    {
     "data": {
      "text/html": [
       "<div>\n",
       "<style scoped>\n",
       "    .dataframe tbody tr th:only-of-type {\n",
       "        vertical-align: middle;\n",
       "    }\n",
       "\n",
       "    .dataframe tbody tr th {\n",
       "        vertical-align: top;\n",
       "    }\n",
       "\n",
       "    .dataframe thead th {\n",
       "        text-align: right;\n",
       "    }\n",
       "</style>\n",
       "<table border=\"1\" class=\"dataframe\">\n",
       "  <thead>\n",
       "    <tr style=\"text-align: right;\">\n",
       "      <th></th>\n",
       "      <th>user_id</th>\n",
       "      <th>revenue</th>\n",
       "      <th>testgroup</th>\n",
       "    </tr>\n",
       "  </thead>\n",
       "  <tbody>\n",
       "    <tr>\n",
       "      <th>0</th>\n",
       "      <td>1</td>\n",
       "      <td>0</td>\n",
       "      <td>b</td>\n",
       "    </tr>\n",
       "    <tr>\n",
       "      <th>1</th>\n",
       "      <td>2</td>\n",
       "      <td>0</td>\n",
       "      <td>a</td>\n",
       "    </tr>\n",
       "    <tr>\n",
       "      <th>2</th>\n",
       "      <td>3</td>\n",
       "      <td>0</td>\n",
       "      <td>a</td>\n",
       "    </tr>\n",
       "    <tr>\n",
       "      <th>3</th>\n",
       "      <td>4</td>\n",
       "      <td>0</td>\n",
       "      <td>b</td>\n",
       "    </tr>\n",
       "    <tr>\n",
       "      <th>4</th>\n",
       "      <td>5</td>\n",
       "      <td>0</td>\n",
       "      <td>b</td>\n",
       "    </tr>\n",
       "  </tbody>\n",
       "</table>\n",
       "</div>"
      ],
      "text/plain": [
       "   user_id  revenue testgroup\n",
       "0        1        0         b\n",
       "1        2        0         a\n",
       "2        3        0         a\n",
       "3        4        0         b\n",
       "4        5        0         b"
      ]
     },
     "execution_count": 35,
     "metadata": {},
     "output_type": "execute_result"
    }
   ],
   "source": [
    "results.head()"
   ]
  },
  {
   "cell_type": "markdown",
   "metadata": {},
   "source": [
    "### Проверим данные теста "
   ]
  },
  {
   "cell_type": "code",
   "execution_count": 6,
   "metadata": {},
   "outputs": [
    {
     "data": {
      "text/plain": [
       "b    202667\n",
       "a    202103\n",
       "Name: testgroup, dtype: int64"
      ]
     },
     "execution_count": 6,
     "metadata": {},
     "output_type": "execute_result"
    }
   ],
   "source": [
    "#Размер выборок примерно одинаковый - ОК\n",
    "results['testgroup'].value_counts()"
   ]
  },
  {
   "cell_type": "code",
   "execution_count": 7,
   "metadata": {},
   "outputs": [],
   "source": [
    "#Пользователи в группах не повторяются - ОК\n",
    "assert results['user_id'].is_unique, \"Есть дубликаты\""
   ]
  },
  {
   "cell_type": "code",
   "execution_count": 8,
   "metadata": {},
   "outputs": [
    {
     "data": {
      "text/plain": [
       "user_id      0\n",
       "revenue      0\n",
       "testgroup    0\n",
       "dtype: int64"
      ]
     },
     "execution_count": 8,
     "metadata": {},
     "output_type": "execute_result"
    }
   ],
   "source": [
    "#пропусков нет - ОК\n",
    "results.isna().sum()"
   ]
  },
  {
   "cell_type": "markdown",
   "metadata": {},
   "source": [
    "### Разделим группы и рассчитаем метрики (ARPU, ARPPU, CR в платящего)"
   ]
  },
  {
   "cell_type": "code",
   "execution_count": 39,
   "metadata": {},
   "outputs": [],
   "source": [
    "group_a = results.query('testgroup == \"a\"')"
   ]
  },
  {
   "cell_type": "code",
   "execution_count": 40,
   "metadata": {},
   "outputs": [],
   "source": [
    "group_b = results.query('testgroup == \"b\"')"
   ]
  },
  {
   "cell_type": "code",
   "execution_count": 41,
   "metadata": {},
   "outputs": [
    {
     "data": {
      "image/png": "[encoded data removed]",
      "text/plain": [
       "<Figure size 432x288 with 1 Axes>"
      ]
     },
     "metadata": {
      "needs_background": "light"
     },
     "output_type": "display_data"
    }
   ],
   "source": [
    "plt.hist(group_a['revenue'])\n",
    "plt.title(\"Распределение выручки - group a\")\n",
    "plt.show()"
   ]
  },
  {
   "cell_type": "code",
   "execution_count": 42,
   "metadata": {},
   "outputs": [
    {
     "data": {
      "image/png": "[encoded data removed]",
      "text/plain": [
       "<Figure size 432x288 with 1 Axes>"
      ]
     },
     "metadata": {
      "needs_background": "light"
     },
     "output_type": "display_data"
    }
   ],
   "source": [
    "plt.hist(group_a['revenue'])\n",
    "plt.title(\"Распределение выручки - group b\")\n",
    "plt.show()"
   ]
  },
  {
   "cell_type": "markdown",
   "metadata": {},
   "source": [
    "Оценить распределение по всем юзерам сложно, т.к. в основном юзеры ничего не платят"
   ]
  },
  {
   "cell_type": "code",
   "execution_count": 43,
   "metadata": {},
   "outputs": [],
   "source": [
    "gr_a_pay = group_a.query('revenue > 0')"
   ]
  },
  {
   "cell_type": "code",
   "execution_count": 44,
   "metadata": {},
   "outputs": [],
   "source": [
    "gr_b_pay = group_b.query('revenue > 0')"
   ]
  },
  {
   "cell_type": "code",
   "execution_count": 45,
   "metadata": {},
   "outputs": [
    {
     "data": {
      "image/png": "[encoded data removed]",
      "text/plain": [
       "<Figure size 432x288 with 1 Axes>"
      ]
     },
     "metadata": {
      "needs_background": "light"
     },
     "output_type": "display_data"
    }
   ],
   "source": [
    "plt.hist(gr_a_pay['revenue'])\n",
    "plt.title(\"Распределение выручки - group a\")\n",
    "plt.show()"
   ]
  },
  {
   "cell_type": "code",
   "execution_count": 46,
   "metadata": {},
   "outputs": [
    {
     "data": {
      "image/png": "[encoded data removed]",
      "text/plain": [
       "<Figure size 720x360 with 1 Axes>"
      ]
     },
     "metadata": {
      "needs_background": "light"
     },
     "output_type": "display_data"
    }
   ],
   "source": [
    "plt.figure(figsize=(10, 5))\n",
    "plt.hist(gr_b_pay['revenue'], bins=100, alpha=0.7, color='skyblue', edgecolor='black')\n",
    "plt.title(\"Распределение выручки - group b\")\n",
    "plt.show()"
   ]
  },
  {
   "cell_type": "code",
   "execution_count": 47,
   "metadata": {},
   "outputs": [
    {
     "data": {
      "image/png": "[encoded data removed]",
      "text/plain": [
       "<Figure size 720x360 with 1 Axes>"
      ]
     },
     "metadata": {
      "needs_background": "light"
     },
     "output_type": "display_data"
    }
   ],
   "source": [
    "plt.figure(figsize=(10, 5))\n",
    "plt.hist(gr_a_pay.query('revenue < 5000')['revenue'], bins=100, alpha=0.7, color='skyblue', edgecolor='black')\n",
    "plt.title(\"Распределение выручки - group b\")\n",
    "plt.show()"
   ]
  },
  {
   "cell_type": "markdown",
   "metadata": {},
   "source": [
    "Если посмотреть распределение уже по платящим, то видно, что в тестовой группе оно распределено равномерно, в то время как в контроле есть пользователи которые платят мало и очень много. Если убрать значения выбросов в контроле, то в основном юзеры платят меньше, чем в тестовой группе."
   ]
  },
  {
   "cell_type": "markdown",
   "metadata": {},
   "source": [
    "По результатам предварительного анализа возникает обоснованное подозрение, что экспериментальный дизайн мог быть нарушен:\n",
    "\n",
    "При схожем размере групп, в них наблюдается разная структура платящего сегмента Это может указывать на некорректное сплитование — например, если пользователи были разбиты неслучайным образом или по признакам, коррелирующим с вероятностью оплаты."
   ]
  },
  {
   "cell_type": "markdown",
   "metadata": {},
   "source": [
    "### Стат. анализ"
   ]
  },
  {
   "cell_type": "code",
   "execution_count": 57,
   "metadata": {},
   "outputs": [
    {
     "data": {
      "image/png": "[encoded data removed]",
      "text/plain": [
       "<Figure size 720x504 with 1 Axes>"
      ]
     },
     "metadata": {
      "needs_background": "light"
     },
     "output_type": "display_data"
    }
   ],
   "source": [
    "fig = plt.figure(figsize=(10, 7))\n",
    "plt.boxplot(group_a['revenue'], patch_artist=True)\n",
    "plt.title('Распределение выручки (revenue) в группе A')\n",
    "plt.ylabel('Выручка (revenue)')\n",
    "plt.grid(axis='y', linestyle='--', alpha=0.7)\n",
    "plt.show()"
   ]
  },
  {
   "cell_type": "code",
   "execution_count": 58,
   "metadata": {},
   "outputs": [
    {
     "data": {
      "image/png": "[encoded data removed]",
      "text/plain": [
       "<Figure size 720x504 with 1 Axes>"
      ]
     },
     "metadata": {
      "needs_background": "light"
     },
     "output_type": "display_data"
    }
   ],
   "source": [
    "fig = plt.figure(figsize=(10, 7))\n",
    "plt.boxplot(group_b['revenue'], patch_artist=True)\n",
    "plt.title('Распределение выручки (revenue) в группе B')\n",
    "plt.ylabel('Выручка (revenue)')\n",
    "plt.grid(axis='y', linestyle='--', alpha=0.7)\n",
    "plt.show()"
   ]
  },
  {
   "cell_type": "code",
   "execution_count": 59,
   "metadata": {},
   "outputs": [
    {
     "data": {
      "image/png": "[encoded data removed]",
      "text/plain": [
       "<Figure size 720x504 with 1 Axes>"
      ]
     },
     "metadata": {
      "needs_background": "light"
     },
     "output_type": "display_data"
    }
   ],
   "source": [
    "fig = plt.figure(figsize=(10, 7))\n",
    "plt.boxplot(group_a.query('revenue > 0')['revenue'], patch_artist=True)\n",
    "plt.title('Распределение выручки платящих пользователей в группе A')\n",
    "plt.ylabel('Выручка (revenue)')\n",
    "plt.grid(axis='y', linestyle='--', alpha=0.7)\n",
    "plt.show()"
   ]
  },
  {
   "cell_type": "code",
   "execution_count": 60,
   "metadata": {},
   "outputs": [
    {
     "data": {
      "image/png": "[encoded data removed]",
      "text/plain": [
       "<Figure size 720x504 with 1 Axes>"
      ]
     },
     "metadata": {
      "needs_background": "light"
     },
     "output_type": "display_data"
    }
   ],
   "source": [
    "fig = plt.figure(figsize=(10, 7))\n",
    "plt.boxplot(group_b.query('revenue > 0')['revenue'], patch_artist=True)\n",
    "plt.title('Распределение выручки платящих пользователей в группе B')\n",
    "plt.ylabel('Выручка (revenue)')\n",
    "plt.grid(axis='y', linestyle='--', alpha=0.7)\n",
    "plt.show()"
   ]
  },
  {
   "cell_type": "markdown",
   "metadata": {},
   "source": [
    "### ARPU, ARPPU"
   ]
  },
  {
   "cell_type": "markdown",
   "metadata": {},
   "source": [
    "Данные по revenue — сильно скошены, много нулей, распределение не нормальное. Это делает классические t-тесты небезопасными.\n",
    "\n",
    "Выбираем Bootstrap — он не требует нормальности распределения и хорошо подходит для оценки доверительных интервалов"
   ]
  },
  {
   "cell_type": "markdown",
   "metadata": {},
   "source": [
    "#### Для ARPU:\n",
    "\n",
    "H0: Средний доход на пользователя (ARPU) в группах A и B не отличается.\n",
    "\n",
    "H1: Средний доход на пользователя (ARPU) в группах A и B различается.\n"
   ]
  },
  {
   "cell_type": "markdown",
   "metadata": {},
   "source": [
    "#### Для ARPPU:\n",
    "Считаем только платящих пользователей (revenue > 0).\n",
    "\n",
    "H0: Средний доход на платящего пользователя (ARPPU) в группах A и B равен\n",
    "    \n",
    "H1: Средний доход на платящего пользователя (ARPPU) в группах A и B различается"
   ]
  },
  {
   "cell_type": "code",
   "execution_count": 48,
   "metadata": {},
   "outputs": [],
   "source": [
    "def bootstrap_diff_means(data_a, data_b, n_boot=10000):\n",
    "    diffs = []\n",
    "    combined = np.concatenate([data_a, data_b])\n",
    "    n_a, n_b = len(data_a), len(data_b)\n",
    "    for _ in range(n_boot):\n",
    "        sample_a = np.random.choice(data_a, n_a, replace=True)\n",
    "        sample_b = np.random.choice(data_b, n_b, replace=True)\n",
    "        diffs.append(sample_b.mean() - sample_a.mean())\n",
    "    diffs = np.array(diffs)\n",
    "    p_value = 2 * min((diffs <= 0).mean(), (diffs >= 0).mean())\n",
    "    return diffs, p_value"
   ]
  },
  {
   "cell_type": "code",
   "execution_count": 49,
   "metadata": {},
   "outputs": [
    {
     "name": "stdout",
     "output_type": "stream",
     "text": [
      "Bootstrap p-value для ARPU: 0.5444\n"
     ]
    }
   ],
   "source": [
    "# Данные для ARPU (все пользователи)\n",
    "data_a = group_a['revenue'].values\n",
    "data_b = group_b['revenue'].values\n",
    "\n",
    "diffs_arpu, p_arpu = bootstrap_diff_means(data_a, data_b)\n",
    "\n",
    "print(f\"Bootstrap p-value для ARPU: {p_arpu:.4f}\")"
   ]
  },
  {
   "cell_type": "code",
   "execution_count": 50,
   "metadata": {},
   "outputs": [
    {
     "name": "stdout",
     "output_type": "stream",
     "text": [
      "Bootstrap p-value для ARPPU: 0.1098\n"
     ]
    }
   ],
   "source": [
    "# Данные для ARPPU (только платящие)\n",
    "data_a_pay = group_a.loc[group_a['revenue'] > 0, 'revenue'].values\n",
    "data_b_pay = group_b.loc[group_b['revenue'] > 0, 'revenue'].values\n",
    "\n",
    "diffs_arppu, p_arppu = bootstrap_diff_means(data_a_pay, data_b_pay)\n",
    "\n",
    "print(f\"Bootstrap p-value для ARPPU: {p_arppu:.4f}\")"
   ]
  },
  {
   "cell_type": "markdown",
   "metadata": {},
   "source": [
    "### CR"
   ]
  },
  {
   "cell_type": "markdown",
   "metadata": {},
   "source": [
    "Конверсия — это бинарная метрика: платящий/неплатящий\n",
    "\n",
    "Мы хотим проверить, есть ли статистически значимое различие в долях платящих между группами\n",
    "\n",
    "Для сравнения двух долей в независимых выборках подходит z-тест для разницы пропорций"
   ]
  },
  {
   "cell_type": "markdown",
   "metadata": {},
   "source": [
    "H0: Конверсия (доля платящих) в группах A и B равна\n",
    "\n",
    "H1: Конверсия в группах A и B различается"
   ]
  },
  {
   "cell_type": "code",
   "execution_count": 52,
   "metadata": {},
   "outputs": [
    {
     "name": "stdout",
     "output_type": "stream",
     "text": [
      "Z-тест для конверсии: stat=-694.7294, p-value=0.0000\n"
     ]
    }
   ],
   "source": [
    "success_a = (group_a['revenue'] > 0).sum()\n",
    "success_b = (group_b['revenue'] > 0).sum()\n",
    "n_a = len(group_a)\n",
    "n_b = len(group_b)\n",
    "\n",
    "count = np.array([success_a, success_b])\n",
    "nobs = np.array([n_a, n_b])\n",
    "\n",
    "stat, pval = ztest(count, nobs)\n",
    "\n",
    "print(f\"Z-тест для конверсии: stat={stat:.4f}, p-value={pval:.4f}\")"
   ]
  },
  {
   "cell_type": "markdown",
   "metadata": {},
   "source": [
    "#### По ARPU:\n",
    "Bootstrap-анализ показал отсутствие статистически значимых различий между тестовой и контрольной группами (p-value ≈ 0.54). Это значит, что в среднем доход на пользователя в обеих группах схож.\n",
    "\n",
    "#### По ARPPU:\n",
    "Результаты bootstrap-теста дали p-value ≈ 0.11, что также не позволяет утверждать о наличии статистически значимой разницы. Следовательно, среди платящих пользователей средний доход в группах не различается существенно.\n",
    "\n",
    "#### По конверсии:\n",
    "В Z-тест p-value = 0, что свидетельствует о статистически значимом отличии конверсии между группами. При этом тестовая группа имеет меньшую долю платящих по сравнению с контролем."
   ]
  },
  {
   "cell_type": "markdown",
   "metadata": {},
   "source": [
    "#### Интерпретация и рекомендации\n",
    "\n",
    "Важные нюансы:\n",
    "1 - Распределение выручки в группе A сильно неравномерное, большинство платящих тратят меньше, чем в группе B.\n",
    "2 - Медиана платежей в группе B выше, монетизация в группе B структурно лучше и не объясняется единичными крупными платежами.\n",
    "3 - Группа B приносит более стабильных и массовых платящих пользователей с относительно предсказуемыми платежами (обычно в диапазоне 2.5–3.5 тыс. рублей).\n",
    "4 - Несмотря на то, что ARPU и ARPPU выше в тестовой группе, снижение конверсии платящих вызывает вопросы о стабильности и достоверности результатов.\n",
    "\n",
    "Рекомендуется провести дополнительные тесты на балансировку групп.При подтверждении несбалансированности — необходимо пересформировать группы и повторить эксперимент для получения корректных и надёжных результатов."
   ]
  },
  {
   "cell_type": "markdown",
   "metadata": {},
   "source": [
    "# Задание 3 - метрики приложения"
   ]
  },
  {
   "cell_type": "markdown",
   "metadata": {},
   "source": [
    "## Метрики стандарных событий Plants & Gardens"
   ]
  },
  {
   "cell_type": "markdown",
   "metadata": {},
   "source": [
    "#### Описание:\n",
    "Каждый месяц проводятся тематические события, ограниченные по времени. \n",
    "В них игроки могут получить уникальные предметы для сада и персонажей, дополнительные монеты или бонусы. \n",
    "Для получения награды требуется пройти ряд уровней за определенное время."
   ]
  },
  {
   "cell_type": "markdown",
   "metadata": {},
   "source": [
    "#### Метрики роста:\n",
    "\n",
    "% игроков, которые участвовали в событии\n",
    "(интерес и вовлечение новых или текущих игроков)\n",
    "\n",
    "DAU события и прирост DAU\n",
    "(ежедневная активность, вовлечённость, удержание на уровне активности)\n",
    "\n",
    "Удержание игроков после завершения события\n",
    "(мотивация оставаться в игре, влияние бонусов на долгосрочный retention)\n",
    "\n",
    "Влияние события на прибыль: частота покупок, рост ARPU/ARPPU\n",
    "(монетизация, коммерческий эффект)\n",
    "\n",
    "Какие элементы события покупают чаще всего\n",
    "(оптимизация предложения и дополнительные источники роста)"
   ]
  },
  {
   "cell_type": "markdown",
   "metadata": {},
   "source": [
    "#### Метрики продукта:\n",
    "\n",
    "Retention — удержание игроков в течение события по дням/уровням\n",
    "(интерес и вовлеченность во время самого события)\n",
    "\n",
    "Среднее количество пройденных уровней\n",
    "(глубина взаимодействия, оптимальная длительность события)\n",
    "\n",
    "% игроков, завершивших событие до конца\n",
    "(баланс сложности — не слишком ли просто или сложно)\n",
    "\n",
    "Среднее время прохождения уровней\n",
    "(оценка сложности и времени, которое игроки готовы уделять)"
   ]
  },
  {
   "cell_type": "markdown",
   "metadata": {},
   "source": [
    "## Метрики усложненных событий Plants & Gardens"
   ]
  },
  {
   "cell_type": "markdown",
   "metadata": {},
   "source": [
    "#### Описание:\n",
    "При каждой неудачной попытке выполнения уровня игрок будет откатываться на несколько уровней назад."
   ]
  },
  {
   "cell_type": "markdown",
   "metadata": {},
   "source": [
    "#### Когда мы усложняем событие мы можем мотивировать пользователя, сделав событие более увлекательным, а можем отбить желание играть, если событие будет слишком сложным. Тут стоит следить за чувствительности к сложности события.\n",
    "\n",
    "#### Новые метрики роста (влияние на поведение пользователя):\n",
    "\n",
    "% платежей, сделанных ради избежания отката\n",
    "(финансовый индикатор, показывает, насколько сложность стимулирует монетизацию)"
   ]
  },
  {
   "cell_type": "markdown",
   "metadata": {},
   "source": [
    "#### Новые метрики продукта (влияние на поведение пользователя):\n",
    "\n",
    "% платежей, сделанных ради избежания отката\n",
    "(финансовый индикатор, показывает, насколько сложность стимулирует монетизацию)"
   ]
  }
 ],
 "metadata": {
  "kernelspec": {
   "display_name": "Python 3",
   "language": "python",
   "name": "python3"
  },
  "language_info": {
   "codemirror_mode": {
    "name": "ipython",
    "version": 3
   },
   "file_extension": ".py",
   "mimetype": "text/x-python",
   "name": "python",
   "nbconvert_exporter": "python",
   "pygments_lexer": "ipython3",
   "version": "3.7.3"
  }
 },
 "nbformat": 4,
 "nbformat_minor": 4
}
